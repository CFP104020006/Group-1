{
 "cells": [
  {
   "cell_type": "code",
   "execution_count": 18,
   "metadata": {},
   "outputs": [],
   "source": [
    "import pygame\n",
    "def main():\n",
    "    \"\"\" Set up the game and run the main game loop \"\"\"\n",
    "    pygame.init()    # Prepare the pygame module for use\n",
    "    surface_sz = 500 # Desired physical surface size, in pixels.\n",
    "\n",
    "    # Create surface of (width, height), and its window.\n",
    "    main_surface = pygame.display.set_mode((surface_sz, 660))\n",
    "    #寬度 500 高度 660\n",
    "\n",
    "    # Set up some data to describe a small rectangle and its color\n",
    "    small_rect = (0, 50, 40, 40)  # (x, y,width, height) \n",
    "                                  # x,y是圖形指在視窗上的座標 \n",
    "                                  # width,height是指圖形所要佔據視窗的大小\n",
    "                                  # 原點是在視窗的左上角，向右為x正，向下為y正 \n",
    "    \n",
    "    some_color = (20, 100, 150)   # A color is a mix of (Red, Green, Blue)\n",
    "\n",
    "    while True:\n",
    "        ev = pygame.event.poll()  # Look for any event\n",
    "        if ev.type == pygame.QUIT: # Window close button clicked?\n",
    "            break # ... leave game loop\n",
    "\n",
    "        # Update your game objects and data structures here...\n",
    "\n",
    "        # We draw everything from scratch on each frame.\n",
    "        # So first fill everything with the background color\n",
    "        main_surface.fill((0, 0, 0))           #將背景顏色填滿整個視窗\n",
    "        \n",
    "        \n",
    "        \n",
    "        \n",
    "        #背景圓球 藍色 半徑20 左右間隔20 上下間隔10\n",
    "        for j in range(9):\n",
    "            xchange = (60*j,0)\n",
    "            for i in range(4):\n",
    "                ychange = (0,90*i)\n",
    "                pygame.draw.circle(main_surface,some_color,(40+xchange[0],200+ychange[1]),20)\n",
    "        for j in range(9) :\n",
    "            xchange2 = (60*j,0)\n",
    "            for i in range(3) :\n",
    "                ychange2 = (0,90*i)\n",
    "                pygame.draw.circle(main_surface , some_color , (10+xchange2[0], 245+ychange2[1]) ,20)\n",
    "            \n",
    "        #大分子圓球 橘色 半徑7\n",
    "        pygame.draw.circle(main_surface,(255,165,0),(20,20),7)\n",
    "        #小分子圓球 紅色 半徑3\n",
    "        pygame.draw.circle(main_surface,(255,0,0),(40,10),3)\n",
    "        # Now the surface is ready, tell pygame to display it!\n",
    "        pygame.display.flip()\n",
    "        \n",
    "        \n",
    "    pygame.quit() # Once we leave the loop, close the window.\n",
    "\n",
    "main()\n"
   ]
  },
  {
   "cell_type": "code",
   "execution_count": 6,
   "metadata": {},
   "outputs": [
    {
     "ename": "AttributeError",
     "evalue": "'builtin_function_or_method' object has no attribute 'fill'",
     "output_type": "error",
     "traceback": [
      "\u001b[1;31m---------------------------------------------------------------------------\u001b[0m",
      "\u001b[1;31mAttributeError\u001b[0m                            Traceback (most recent call last)",
      "\u001b[1;32m<ipython-input-6-30484fc028d5>\u001b[0m in \u001b[0;36m<module>\u001b[1;34m\u001b[0m\n\u001b[1;32m----> 1\u001b[1;33m \u001b[0mhelp\u001b[0m\u001b[1;33m(\u001b[0m\u001b[0mpygame\u001b[0m\u001b[1;33m.\u001b[0m\u001b[0mdisplay\u001b[0m\u001b[1;33m.\u001b[0m\u001b[0mset_mode\u001b[0m\u001b[1;33m.\u001b[0m\u001b[0mfill\u001b[0m\u001b[1;33m)\u001b[0m\u001b[1;33m\u001b[0m\u001b[1;33m\u001b[0m\u001b[0m\n\u001b[0m",
      "\u001b[1;31mAttributeError\u001b[0m: 'builtin_function_or_method' object has no attribute 'fill'"
     ]
    }
   ],
   "source": [
    "# Overpaint a smaller rectangle on the main surface\n",
    "main_surface.fill(some_color, small_rect)\n",
    "pygame.draw.ellipse(main_surface, some_color, (150,150,20,20))    "
   ]
  },
  {
   "cell_type": "code",
   "execution_count": 4,
   "metadata": {},
   "outputs": [
    {
     "ename": "NameError",
     "evalue": "name 'background' is not defined",
     "output_type": "error",
     "traceback": [
      "\u001b[1;31m---------------------------------------------------------------------------\u001b[0m",
      "\u001b[1;31mNameError\u001b[0m                                 Traceback (most recent call last)",
      "\u001b[1;32m<ipython-input-4-99725c26da29>\u001b[0m in \u001b[0;36m<module>\u001b[1;34m\u001b[0m\n\u001b[0;32m      1\u001b[0m \u001b[1;31m#draw a filled circle\u001b[0m\u001b[1;33m\u001b[0m\u001b[1;33m\u001b[0m\u001b[1;33m\u001b[0m\u001b[0m\n\u001b[1;32m----> 2\u001b[1;33m \u001b[0mpygame\u001b[0m\u001b[1;33m.\u001b[0m\u001b[0mdraw\u001b[0m\u001b[1;33m.\u001b[0m\u001b[0mcircle\u001b[0m\u001b[1;33m(\u001b[0m\u001b[0mbackground\u001b[0m\u001b[1;33m,\u001b[0m \u001b[1;33m(\u001b[0m\u001b[1;36m0\u001b[0m\u001b[1;33m,\u001b[0m \u001b[1;36m0\u001b[0m\u001b[1;33m,\u001b[0m \u001b[1;36m255\u001b[0m\u001b[1;33m)\u001b[0m\u001b[1;33m,\u001b[0m \u001b[1;33m(\u001b[0m\u001b[1;36m400\u001b[0m\u001b[1;33m,\u001b[0m \u001b[1;36m50\u001b[0m\u001b[1;33m)\u001b[0m\u001b[1;33m,\u001b[0m \u001b[1;36m45\u001b[0m\u001b[1;33m)\u001b[0m\u001b[1;33m\u001b[0m\u001b[1;33m\u001b[0m\u001b[0m\n\u001b[0m",
      "\u001b[1;31mNameError\u001b[0m: name 'background' is not defined"
     ]
    }
   ],
   "source": [
    "#draw a filled circle \n",
    "pygame.draw.circle(background, (0, 0, 255), (400, 50), 45)"
   ]
  },
  {
   "cell_type": "code",
   "execution_count": 2,
   "metadata": {},
   "outputs": [
    {
     "name": "stdout",
     "output_type": "stream",
     "text": [
      "1\n"
     ]
    }
   ],
   "source": []
  },
  {
   "cell_type": "code",
   "execution_count": null,
   "metadata": {},
   "outputs": [],
   "source": []
  }
 ],
 "metadata": {
  "kernelspec": {
   "display_name": "Python 3",
   "language": "python",
   "name": "python3"
  },
  "language_info": {
   "codemirror_mode": {
    "name": "ipython",
    "version": 3
   },
   "file_extension": ".py",
   "mimetype": "text/x-python",
   "name": "python",
   "nbconvert_exporter": "python",
   "pygments_lexer": "ipython3",
   "version": "3.7.1"
  }
 },
 "nbformat": 4,
 "nbformat_minor": 2
}
